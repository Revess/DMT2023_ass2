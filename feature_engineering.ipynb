{
 "cells": [
  {
   "cell_type": "code",
   "execution_count": 1,
   "metadata": {},
   "outputs": [],
   "source": [
    "import pandas as pd\n",
    "import matplotlib as mlp\n",
    "import numpy as np\n",
    "import seaborn as sns\n",
    "import matplotlib.pyplot as plt"
   ]
  },
  {
   "cell_type": "code",
   "execution_count": 2,
   "metadata": {},
   "outputs": [],
   "source": [
    "trainingdf = pd.read_csv('./data/training_set_VU_DM.csv')"
   ]
  },
  {
   "cell_type": "code",
   "execution_count": 10,
   "metadata": {},
   "outputs": [],
   "source": [
    "#Add column with day of the week\n",
    "trainingdf['date_time'] = pd.to_datetime(trainingdf['date_time'])\n",
    "trainingdf['weekday'] = trainingdf['date_time'].dt.dayofweek\n",
    "trainingdf['weekday_name'] = trainingdf['date_time'].dt.day_name()\n",
    "\n",
    "#Add column with part of day: morning, afternoon, evening, night\n",
    "trainingdf['part_of_day'] = pd.cut(trainingdf['date_time'].dt.hour,[0,6,12,18,24],labels=['night','morning','afternoon','evening'],include_lowest=True)\n",
    "\n",
    "#Add column with season: winter, spring, summer, autumn\n",
    "# Doesn't work since the mins must increase monotonically? Other option I say is \n",
    "# trainingdf['season'] = pd.cut(trainingdf['date_time'].dt.strftime('%m-%d'),[1-1, 3-21, 6-21, 21-9, 12-21, 12-31],labels=['winter','spring','summer','autumn', 'winter'],include_lowest=True)\n",
    "trainingdf['season'] = pd.cut(trainingdf['date_time'].dt.month,[0,3,6,9,12],labels=['winter','spring','summer','autumn'],include_lowest=True)\n",
    "\n",
    "#Add column last minute whenever it is booked within 2 weeks upfront\n",
    "trainingdf['last_minute'] = [1 if x <= 14 else 0 for x in trainingdf['srch_booking_window']]\n",
    "\n",
    "#Fill NaN values from Gross_bookings_usd with 0\n",
    "trainingdf['gross_bookings_usd'] = trainingdf['gross_bookings_usd'].fillna(0)\n"
   ]
  },
  {
   "cell_type": "code",
   "execution_count": null,
   "metadata": {},
   "outputs": [],
   "source": [
    "#Needs to be run after rows are dropped\n",
    "#Based on the occurences of the srch_id in the temporal time, add 1 to the column if click_bool is 1 and 0 if click_bool is 0 over the whole dataset\n",
    "trainingdf['click_history'] = trainingdf.groupby('srch_id')['click_bool'].transform(lambda x: x.cumsum().shift())"
   ]
  }
 ],
 "metadata": {
  "kernelspec": {
   "display_name": "DMT2023",
   "language": "python",
   "name": "python3"
  },
  "language_info": {
   "codemirror_mode": {
    "name": "ipython",
    "version": 3
   },
   "file_extension": ".py",
   "mimetype": "text/x-python",
   "name": "python",
   "nbconvert_exporter": "python",
   "pygments_lexer": "ipython3",
   "version": "3.10.0"
  },
  "orig_nbformat": 4
 },
 "nbformat": 4,
 "nbformat_minor": 2
}
