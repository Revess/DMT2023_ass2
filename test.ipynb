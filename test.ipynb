{
 "cells": [
  {
   "cell_type": "code",
   "execution_count": 1,
   "metadata": {},
   "outputs": [],
   "source": [
    "import pandas as pd"
   ]
  },
  {
   "cell_type": "code",
   "execution_count": 3,
   "metadata": {},
   "outputs": [
    {
     "name": "stderr",
     "output_type": "stream",
     "text": [
      "/tmp/ipykernel_106028/3443471649.py:1: DtypeWarning: Columns (3) have mixed types. Specify dtype option on import or set low_memory=False.\n",
      "  pd.read_csv(\"./data/cleaned_test_set_VU_DM.csv\").columns\n"
     ]
    },
    {
     "data": {
      "text/plain": [
       "Index(['visitor_location_country_id', 'prop_country_id', 'prop_starrating',\n",
       "       'prop_review_score', 'prop_brand_bool', 'prop_location_score1',\n",
       "       'prop_log_historical_price', 'price_usd', 'promotion_flag',\n",
       "       'srch_destination_id', 'srch_length_of_stay', 'srch_booking_window',\n",
       "       'srch_adults_count', 'srch_children_count', 'srch_room_count',\n",
       "       'srch_saturday_night_bool', 'random_bool', 'weekday', 'part_of_day',\n",
       "       'last_minute', 'season_booking'],\n",
       "      dtype='object')"
      ]
     },
     "execution_count": 3,
     "metadata": {},
     "output_type": "execute_result"
    }
   ],
   "source": [
    "pd.read_csv(\"./data/cleaned_test_set_VU_DM.csv\").columns"
   ]
  },
  {
   "cell_type": "code",
   "execution_count": 13,
   "metadata": {},
   "outputs": [],
   "source": [
    "df = pd.read_csv(\"./pred.csv\")"
   ]
  },
  {
   "cell_type": "code",
   "execution_count": 21,
   "metadata": {},
   "outputs": [
    {
     "name": "stderr",
     "output_type": "stream",
     "text": [
      "/tmp/ipykernel_106028/660993057.py:1: DtypeWarning: Columns (5) have mixed types. Specify dtype option on import or set low_memory=False.\n",
      "  pd.read_csv(\"./data/cleaned_test_set_VU_DM.csv\").isna().any()\n"
     ]
    },
    {
     "data": {
      "text/plain": [
       "srch_id                        False\n",
       "visitor_location_country_id    False\n",
       "prop_country_id                False\n",
       "prop_id                        False\n",
       "prop_starrating                False\n",
       "prop_review_score              False\n",
       "prop_brand_bool                False\n",
       "prop_location_score1           False\n",
       "prop_log_historical_price      False\n",
       "price_usd                      False\n",
       "promotion_flag                 False\n",
       "srch_destination_id            False\n",
       "srch_length_of_stay            False\n",
       "srch_booking_window            False\n",
       "srch_adults_count              False\n",
       "srch_children_count            False\n",
       "srch_room_count                False\n",
       "srch_saturday_night_bool       False\n",
       "random_bool                    False\n",
       "weekday                        False\n",
       "part_of_day                    False\n",
       "last_minute                    False\n",
       "season_booking                 False\n",
       "dtype: bool"
      ]
     },
     "execution_count": 21,
     "metadata": {},
     "output_type": "execute_result"
    }
   ],
   "source": [
    "pd.read_csv(\"./data/cleaned_test_set_VU_DM.csv\").isna().any()"
   ]
  },
  {
   "cell_type": "code",
   "execution_count": 27,
   "metadata": {},
   "outputs": [
    {
     "data": {
      "text/plain": [
       "(4959183, 50)"
      ]
     },
     "execution_count": 27,
     "metadata": {},
     "output_type": "execute_result"
    }
   ],
   "source": [
    "from preprocessing import season_booking\n",
    "path=\"./data/test_set_VU_DM.csv\"\n",
    "df = pd.read_csv(path)\n",
    "df.shape"
   ]
  },
  {
   "cell_type": "code",
   "execution_count": 28,
   "metadata": {},
   "outputs": [
    {
     "data": {
      "text/plain": [
       "(4959183, 50)"
      ]
     },
     "execution_count": 28,
     "metadata": {},
     "output_type": "execute_result"
    }
   ],
   "source": [
    "if \"train\" in path:\n",
    "    df = df.drop(['position', 'gross_bookings_usd'], axis=1)\n",
    "df.shape"
   ]
  },
  {
   "cell_type": "code",
   "execution_count": 29,
   "metadata": {},
   "outputs": [
    {
     "name": "stdout",
     "output_type": "stream",
     "text": [
      "(4959183, 50)\n",
      "(4959183, 51)\n",
      "(4959183, 52)\n",
      "(4959183, 53)\n",
      "(4959183, 54)\n",
      "(4959183, 54)\n",
      "(4959183, 55)\n",
      "(4959183, 54)\n",
      "(4959183, 54)\n",
      "(4959183, 55)\n",
      "(4959183, 55)\n",
      "(4959183, 55)\n",
      "(4959183, 56)\n",
      "(4959183, 57)\n",
      "(4959183, 25)\n",
      "(4959183, 23)\n",
      "(4959183, 23)\n"
     ]
    }
   ],
   "source": [
    "df['date_time'] = pd.to_datetime(df['date_time'])\n",
    "print(df.shape)\n",
    "df['weekday'] = df['date_time'].dt.dayofweek\n",
    "print(df.shape)\n",
    "df['part_of_day'] = pd.cut(df['date_time'].dt.hour,[0,6,12,18,24],labels=[0,1,2,3],include_lowest=True) # 'night','morning','afternoon','evening' , 0-4\n",
    "print(df.shape)\n",
    "df['last_minute'] = [1 if x <= 14 else 0 for x in df['srch_booking_window']]\n",
    "print(df.shape)\n",
    "df['date_booking'] = df['date_time'] + pd.to_timedelta(df['srch_booking_window'], unit='d')\n",
    "print(df.shape)\n",
    "df['date_booking'] = df['date_time'] + pd.to_timedelta(df['srch_booking_window'], unit='d')\n",
    "print(df.shape)\n",
    "df['season_booking'] = df.apply(season_booking, axis=1)\n",
    "print(df.shape)\n",
    "df.drop(['date_booking'], axis=1, inplace=True)\n",
    "print(df.shape)\n",
    "df['prop_review_score'] = df['prop_review_score'].fillna('bfill')\n",
    "print(df.shape)\n",
    "df['comp_rate'] = [1 if all(x == 1 for x in row) else 0 if all(x == 0 for x in row) else -1 for row in df[['comp1_rate', 'comp2_rate', 'comp3_rate', 'comp4_rate', 'comp5_rate', 'comp6_rate', 'comp7_rate', 'comp8_rate']].values]\n",
    "print(df.shape)\n",
    "columns = ['comp1_rate', 'comp2_rate', 'comp3_rate', 'comp4_rate', 'comp5_rate', 'comp6_rate', 'comp7_rate', 'comp8_rate']\n",
    "print(df.shape)\n",
    "for column in columns:\n",
    "    df[column] = df[column] + 1\n",
    "    df['comp_rate'] = df.groupby('prop_id')[column].transform('mean')\n",
    "print(df.shape)\n",
    "columns2 = ['comp1_inv', 'comp2_inv', 'comp3_inv', 'comp4_inv', 'comp5_inv', 'comp6_inv', 'comp7_inv', 'comp8_inv']\n",
    "for column in columns2:\n",
    "    df[column] = df[column] + 1\n",
    "    df['comp_inv'] = df.groupby('prop_id')[column].transform('mean')\n",
    "print(df.shape)\n",
    "columns2 = ['comp1_rate_percent_diff', 'comp2_rate_percent_diff', 'comp3_rate_percent_diff', 'comp4_rate_percent_diff', 'comp5_rate_percent_diff', 'comp6_rate_percent_diff', 'comp7_rate_percent_diff', 'comp8_rate_percent_diff']\n",
    "for column in columns2:\n",
    "    df['comp_rate_percent_diff'] = df.groupby('prop_id')[column].transform('mean')\n",
    "print(df.shape)\n",
    "df = df.dropna(axis=1, how=\"any\")\n",
    "print(df.shape)\n",
    "df = df.drop(['date_time', 'site_id'],axis=1)\n",
    "print(df.shape)\n",
    "if \"train\" in path:\n",
    "    df = df.dropna(axis=0)\n",
    "print(df.shape)"
   ]
  },
  {
   "cell_type": "code",
   "execution_count": 31,
   "metadata": {},
   "outputs": [],
   "source": [
    "import os\n",
    "df.to_csv(f\"./data/cleaned_{os.path.basename(path)}\", index=False)\n"
   ]
  },
  {
   "cell_type": "code",
   "execution_count": 5,
   "metadata": {},
   "outputs": [],
   "source": [
    "import numpy as np\n",
    "import pandas as pd\n",
    "from sklearn.model_selection import train_test_split\n",
    "from sklearn.metrics import mean_squared_error\n",
    "df = pd.read_csv(\"./data/cleaned_training_set_VU_DM.csv\").drop([\"prop_review_score\"],axis=1)\n",
    "df = (df - df.min()) / (df.max() - df.min()) #Normalize the data\n",
    "columns = df.drop('rating', axis=1).columns\n",
    "target = np.expand_dims(df['rating'].to_numpy(),-1)\n",
    "features = df.drop('rating', axis=1).to_numpy()\n",
    "data = train_test_split(features, target, test_size=0.1) #10% for validation\n",
    "x_train, x_val, y_train, y_val = data\n",
    "x_train = np.append(x_train,y_train, axis=1)"
   ]
  },
  {
   "cell_type": "code",
   "execution_count": 3,
   "metadata": {},
   "outputs": [],
   "source": [
    "U, S, V = np.linalg.svd(x_train, full_matrices=False)"
   ]
  },
  {
   "cell_type": "code",
   "execution_count": 13,
   "metadata": {},
   "outputs": [],
   "source": [
    "k = 3\n",
    "U_k = U[:, :k]\n",
    "S_k = np.diag(S[:k])\n",
    "V_k = V[:k, :]"
   ]
  },
  {
   "cell_type": "code",
   "execution_count": 15,
   "metadata": {},
   "outputs": [
    {
     "ename": "ValueError",
     "evalue": "matmul: Input operand 1 has a mismatch in its core dimension 0, with gufunc signature (n?,k),(k,m?)->(n?,m?) (size 3 is different from 20)",
     "output_type": "error",
     "traceback": [
      "\u001b[0;31m---------------------------------------------------------------------------\u001b[0m",
      "\u001b[0;31mValueError\u001b[0m                                Traceback (most recent call last)",
      "Cell \u001b[0;32mIn[15], line 2\u001b[0m\n\u001b[1;32m      1\u001b[0m \u001b[39m# Predict the missing column for the test matrix\u001b[39;00m\n\u001b[0;32m----> 2\u001b[0m missing_column \u001b[39m=\u001b[39m x_val \u001b[39m@\u001b[39;49m V_k\u001b[39m.\u001b[39;49mT[\u001b[39m-\u001b[39;49m\u001b[39m1\u001b[39;49m, :]  \u001b[39m# Adjust -1 to select the appropriate column index from V_k.T\u001b[39;00m\n\u001b[1;32m      4\u001b[0m \u001b[39m# Print the predicted missing column\u001b[39;00m\n\u001b[1;32m      5\u001b[0m \u001b[39mprint\u001b[39m(\u001b[39m\"\u001b[39m\u001b[39mPredicted Missing Column:\u001b[39m\u001b[39m\"\u001b[39m)\n",
      "\u001b[0;31mValueError\u001b[0m: matmul: Input operand 1 has a mismatch in its core dimension 0, with gufunc signature (n?,k),(k,m?)->(n?,m?) (size 3 is different from 20)"
     ]
    }
   ],
   "source": [
    "# Predict the missing column for the test matrix\n",
    "missing_column = x_val @ V_k.T[-1]  # Adjust -1 to select the appropriate column index from V_k.T\n",
    "\n",
    "# Print the predicted missing column\n",
    "print(\"Predicted Missing Column:\")\n",
    "print(missing_column)\n"
   ]
  },
  {
   "cell_type": "code",
   "execution_count": 20,
   "metadata": {},
   "outputs": [
    {
     "data": {
      "text/plain": [
       "((495835, 20), (3, 1))"
      ]
     },
     "execution_count": 20,
     "metadata": {},
     "output_type": "execute_result"
    }
   ],
   "source": [
    "x_val.shape, np.expand_dims(V_k[:,-1],-1).shape"
   ]
  },
  {
   "cell_type": "code",
   "execution_count": 25,
   "metadata": {},
   "outputs": [
    {
     "data": {
      "text/plain": [
       "((21, 21), (4462512, 21), (21,))"
      ]
     },
     "execution_count": 25,
     "metadata": {},
     "output_type": "execute_result"
    }
   ],
   "source": [
    "V.shape, U.shape, S.shape"
   ]
  },
  {
   "cell_type": "code",
   "execution_count": 23,
   "metadata": {},
   "outputs": [
    {
     "data": {
      "text/plain": [
       "((3, 21), (4462512, 3), (3, 3))"
      ]
     },
     "execution_count": 23,
     "metadata": {},
     "output_type": "execute_result"
    }
   ],
   "source": [
    "V_k.shape, U_k.shape, S_k.shape"
   ]
  },
  {
   "cell_type": "code",
   "execution_count": 1,
   "metadata": {},
   "outputs": [],
   "source": [
    "import pandas as pd"
   ]
  },
  {
   "cell_type": "code",
   "execution_count": 14,
   "metadata": {},
   "outputs": [
    {
     "data": {
      "text/plain": [
       "array([     1,      4,      6, ..., 332782, 332784, 332785])"
      ]
     },
     "execution_count": 14,
     "metadata": {},
     "output_type": "execute_result"
    }
   ],
   "source": [
    "df = pd.read_csv(\"./data/cleaned_training_set_VU_DM.csv\")['srch_id']\n",
    "df.unique()"
   ]
  },
  {
   "cell_type": "code",
   "execution_count": 19,
   "metadata": {},
   "outputs": [
    {
     "data": {
      "text/plain": [
       "(1, 332785, 332786, 665572)"
      ]
     },
     "execution_count": 19,
     "metadata": {},
     "output_type": "execute_result"
    }
   ],
   "source": [
    "df.min(), df.max(), df2['srch_id'].min(), df2['srch_id'].max()"
   ]
  },
  {
   "cell_type": "code",
   "execution_count": 15,
   "metadata": {},
   "outputs": [],
   "source": [
    "df2 = pd.read_csv(\"./data/cleaned_test_set_VU_DM.csv\")"
   ]
  },
  {
   "cell_type": "code",
   "execution_count": 18,
   "metadata": {},
   "outputs": [],
   "source": [
    "df2['srch_id'] += 332785"
   ]
  },
  {
   "cell_type": "code",
   "execution_count": 20,
   "metadata": {},
   "outputs": [],
   "source": [
    "df2.to_csv(\"./data/testing_ffm.csv\")"
   ]
  },
  {
   "cell_type": "code",
   "execution_count": 22,
   "metadata": {},
   "outputs": [
    {
     "data": {
      "text/plain": [
       "Index(['srch_id', 'visitor_location_country_id', 'prop_country_id', 'prop_id',\n",
       "       'prop_starrating', 'prop_review_score', 'prop_brand_bool',\n",
       "       'prop_location_score1', 'prop_log_historical_price', 'price_usd',\n",
       "       'promotion_flag', 'srch_destination_id', 'srch_length_of_stay',\n",
       "       'srch_booking_window', 'srch_adults_count', 'srch_children_count',\n",
       "       'srch_room_count', 'srch_saturday_night_bool', 'random_bool', 'weekday',\n",
       "       'part_of_day', 'last_minute', 'season_booking'],\n",
       "      dtype='object')"
      ]
     },
     "execution_count": 22,
     "metadata": {},
     "output_type": "execute_result"
    }
   ],
   "source": [
    "df2.columns"
   ]
  },
  {
   "cell_type": "code",
   "execution_count": 25,
   "metadata": {},
   "outputs": [
    {
     "data": {
      "text/plain": [
       "False"
      ]
     },
     "execution_count": 25,
     "metadata": {},
     "output_type": "execute_result"
    }
   ],
   "source": [
    "df.isin(['bfill']).any()"
   ]
  }
 ],
 "metadata": {
  "kernelspec": {
   "display_name": "DiscoVAE",
   "language": "python",
   "name": "python3"
  },
  "language_info": {
   "codemirror_mode": {
    "name": "ipython",
    "version": 3
   },
   "file_extension": ".py",
   "mimetype": "text/x-python",
   "name": "python",
   "nbconvert_exporter": "python",
   "pygments_lexer": "ipython3",
   "version": "3.8.0"
  },
  "orig_nbformat": 4
 },
 "nbformat": 4,
 "nbformat_minor": 2
}
