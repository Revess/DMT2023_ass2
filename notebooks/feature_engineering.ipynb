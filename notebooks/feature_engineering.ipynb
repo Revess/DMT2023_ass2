{
 "cells": [
  {
   "cell_type": "code",
   "execution_count": 2,
   "metadata": {},
   "outputs": [],
   "source": [
    "import pandas as pd\n",
    "import matplotlib as mlp\n",
    "import numpy as np\n",
    "import seaborn as sns\n",
    "import matplotlib.pyplot as plt"
   ]
  },
  {
   "cell_type": "code",
   "execution_count": 6,
   "metadata": {},
   "outputs": [],
   "source": [
    "trainingdf = pd.read_csv('/Users/florencecornelissen/Documents/VU/DMT/DMT2023_ass2/data/training_set_VU_DM.csv')\n",
    "# startlen = len(trainingdf.index)"
   ]
  },
  {
   "cell_type": "code",
   "execution_count": 23,
   "metadata": {},
   "outputs": [],
   "source": [
    "#Add column with day of the week\n",
    "trainingdf['date_time'] = pd.to_datetime(trainingdf['date_time'])\n",
    "trainingdf['weekday'] = trainingdf['date_time'].dt.dayofweek\n",
    "# trainingdf['weekday_name'] = trainingdf['date_time'].dt.day_name()\n",
    "\n",
    "#Add column with part of day: morning, afternoon, evening, night\n",
    "trainingdf['part_of_day'] = pd.cut(trainingdf['date_time'].dt.hour,[0,6,12,18,24],labels=['night','morning','afternoon','evening'],include_lowest=True)\n",
    "\n",
    "#Add column last minute whenever it is booked within 2 weeks upfront\n",
    "trainingdf['last_minute'] = [1 if x <= 14 else 0 for x in trainingdf['srch_booking_window']]\n",
    "\n",
    "#Fill NaN values from Gross_bookings_usd with 0\n",
    "trainingdf['gross_bookings_usd'] = trainingdf['gross_bookings_usd'].fillna(0)\n",
    "\n",
    "#If the price is outside the lower and upper quantile, replace it with the mean of the price of that hotel\n",
    "trainingdf['price_usd'] = np.where((trainingdf['price_usd'] < trainingdf['price_usd'].quantile(0.001)) | (trainingdf['price_usd'] > trainingdf['price_usd'].quantile(0.999)), trainingdf.groupby('prop_country_id')['price_usd'].transform('mean'), trainingdf['price_usd'])\n",
    "\n",
    "#Add 1 to all values in comp1_rate, comp2_rate etc. if they are not NaN so we get a range of 0 to 2 and calculated the total score of all competitors per prop_id (hotel)\n",
    "columns = ['comp1_rate', 'comp2_rate', 'comp3_rate', 'comp4_rate', 'comp5_rate', 'comp6_rate', 'comp7_rate', 'comp8_rate']\n",
    "for column in columns:\n",
    "    trainingdf[column] = trainingdf[column] + 1\n",
    "    trainingdf['comp_rate'] = trainingdf.groupby('prop_id')[column].transform('mean')\n",
    "\n",
    "#Add 1 to all values in comp1_inv, comp2_inv etc. if they are not NaN so we get a range of 0 to 2 and calculated the total score of all competitors per prop_id (hotel)\n",
    "columns2 = ['comp1_inv', 'comp2_inv', 'comp3_inv', 'comp4_inv', 'comp5_inv', 'comp6_inv', 'comp7_inv', 'comp8_inv']\n",
    "for column in columns2:\n",
    "    trainingdf[column] = trainingdf[column] + 1\n",
    "    trainingdf['comp_inv'] = trainingdf.groupby('prop_id')[column].transform('mean')\n",
    "\n",
    "#Add 1 to all values in comp1_inv, comp2_inv etc. if they are not NaN so we get a range of 0 to 2 and calculated the total score of all competitors per prop_id (hotel)\n",
    "columns2 = ['comp1_rate_percent_diff', 'comp2_rate_percent_diff', 'comp3_rate_percent_diff', 'comp4_rate_percent_diff', 'comp5_rate_percent_diff', 'comp6_rate_percent_diff', 'comp7_rate_percent_diff', 'comp8_rate_percent_diff']\n",
    "for column in columns2:\n",
    "    trainingdf['comp_rate_percent_diff'] = trainingdf.groupby('prop_id')[column].transform('mean')\n",
    "\n",
    "#Get the date of the booking by adding the srch_booking_window to the date_time\n",
    "trainingdf['date_booking'] = trainingdf['date_time'] + pd.to_timedelta(trainingdf['srch_booking_window'], unit='d')\n",
    "\n",
    "#Add the price per night\n",
    "trainingdf['price_per_night'] = trainingdf['price_usd'] / trainingdf['srch_length_of_stay']\n",
    "\n",
    "def season_booking(row):\n",
    "    month = row['date_booking'].month\n",
    "    day = row['date_booking'].day\n",
    "\n",
    "    if (month == 3 and day >= 21) or (month == 4) or (month == 5) or (month == 6 and day < 21):\n",
    "        return 'spring'\n",
    "    elif (month == 6 and day >= 21) or (month == 7) or (month == 8) or (month == 9 and day < 21):\n",
    "        return 'summer'\n",
    "    elif (month == 9 and day >= 21) or (month == 10) or (month == 11) or (month == 12 and day < 21):\n",
    "        return 'autumn'\n",
    "    else:\n",
    "        return 'winter'\n",
    "\n",
    "#Get the season of the date_booking by the function season_booking\n",
    "trainingdf['season_booking'] = trainingdf.apply(season_booking, axis=1)\n",
    "\n",
    "#Drop the date_bookking again since we don't need it anymore\n",
    "trainingdf.drop(['date_booking'], axis=1, inplace=True)\n"
   ]
  },
  {
   "cell_type": "code",
   "execution_count": 12,
   "metadata": {},
   "outputs": [],
   "source": []
  },
  {
   "cell_type": "code",
   "execution_count": 155,
   "metadata": {},
   "outputs": [],
   "source": [
    "#Needs to be run after rows are dropped\n",
    "#Based on the occurences of the srch_id in the temporal time, add 1 to the column if click_bool is 1 and 0 if click_bool is 0 over the whole dataset\n",
    "#trainingdf['click_history'] = trainingdf.groupby('srch_id')['click_bool'].transform(lambda x: x.cumsum().shift())"
   ]
  },
  {
   "cell_type": "code",
   "execution_count": 15,
   "metadata": {},
   "outputs": [
    {
     "data": {
      "text/plain": [
       "count    4.958347e+06\n",
       "mean     9.605482e+01\n",
       "std      1.145944e+03\n",
       "min      1.534091e-01\n",
       "25%      4.034667e+01\n",
       "50%      7.152500e+01\n",
       "75%      1.189300e+02\n",
       "max      1.173038e+06\n",
       "Name: price_per_night, dtype: float64"
      ]
     },
     "execution_count": 15,
     "metadata": {},
     "output_type": "execute_result"
    }
   ],
   "source": [
    "trainingdf['price_per_night'].describe()"
   ]
  },
  {
   "cell_type": "code",
   "execution_count": 8,
   "metadata": {},
   "outputs": [],
   "source": [
    "#If the price is outside the lower and upper quantile, replace it with the mean of the price of that hotel\n",
    "trainingdf['price_usd'] = np.where((trainingdf['price_usd'] < trainingdf['price_usd'].quantile(0.001)) | (trainingdf['price_usd'] > trainingdf['price_usd'].quantile(0.999)), trainingdf.groupby('prop_id')['price_usd'].transform('mean'), trainingdf['price_usd'])"
   ]
  },
  {
   "cell_type": "code",
   "execution_count": 22,
   "metadata": {},
   "outputs": [],
   "source": [
    "#calculate the number of click_bool before the booking_bool is 1 per srch_id\n",
    "trainingdf['click_bool_before_booking'] = trainingdf.groupby('srch_id', group_keys=False)['click_bool'].apply(lambda x: x.cumsum().shift())\n",
    "\n",
    "trainingdf['click_bool_before_booking'] = trainingdf['click_bool_before_booking'].where(trainingdf['booking_bool'] != 1, 0)"
   ]
  },
  {
   "cell_type": "code",
   "execution_count": 17,
   "metadata": {},
   "outputs": [
    {
     "name": "stdout",
     "output_type": "stream",
     "text": [
      "srch_id\n",
      "1         28\n",
      "4         32\n",
      "6          5\n",
      "8         21\n",
      "11        33\n",
      "          ..\n",
      "332777    32\n",
      "332781    15\n",
      "332782    24\n",
      "332784    28\n",
      "332785     6\n",
      "Length: 199795, dtype: int64\n"
     ]
    }
   ],
   "source": [
    "#Print number of records per search id\n",
    "print(trainingdf.groupby('srch_id').size())"
   ]
  },
  {
   "cell_type": "code",
   "execution_count": 23,
   "metadata": {},
   "outputs": [
    {
     "name": "stderr",
     "output_type": "stream",
     "text": [
      "/var/folders/0d/s7f5w3y14tjdxlssm2bbvqjc0000gn/T/ipykernel_4692/4225714963.py:2: FutureWarning: Not prepending group keys to the result index of transform-like apply. In the future, the group keys will be included in the index, regardless of whether the applied function returns a like-indexed object.\n",
      "To preserve the previous behavior, use\n",
      "\n",
      "\t>>> .groupby(..., group_keys=False)\n",
      "\n",
      "To adopt the future behavior and silence this warning, use \n",
      "\n",
      "\t>>> .groupby(..., group_keys=True)\n",
      "  click_count = trainingdf.groupby('srch_id')['click_bool'].apply(lambda x: x.cumsum().shift().fillna(0))\n"
     ]
    },
    {
     "data": {
      "image/png": "[encoded data removed]",
      "text/plain": [
       "<Figure size 1000x600 with 1 Axes>"
      ]
     },
     "metadata": {},
     "output_type": "display_data"
    }
   ],
   "source": [
    "\n"
   ]
  },
  {
   "cell_type": "code",
   "execution_count": 20,
   "metadata": {},
   "outputs": [
    {
     "name": "stdout",
     "output_type": "stream",
     "text": [
      "27         0\n",
      "59         0\n",
      "64         0\n",
      "85         0\n",
      "118        0\n",
      "          ..\n",
      "4958273    0\n",
      "4958288    0\n",
      "4958312    0\n",
      "4958340    0\n",
      "4958346    0\n",
      "Name: booking_bool, Length: 199795, dtype: int64\n"
     ]
    }
   ],
   "source": []
  },
  {
   "cell_type": "code",
   "execution_count": null,
   "metadata": {},
   "outputs": [],
   "source": [
    "#Calculate the number of click_bool = 1 till booking_bool = 1 per srch_id\n",
    "trainingdf['click_bool_till_booking'] = trainingdf.groupby('srch_id')['click_bool'].transform(lambda x: x.cumsum().shift())"
   ]
  }
 ],
 "metadata": {
  "kernelspec": {
   "display_name": "DMT2023",
   "language": "python",
   "name": "python3"
  },
  "language_info": {
   "codemirror_mode": {
    "name": "ipython",
    "version": 3
   },
   "file_extension": ".py",
   "mimetype": "text/x-python",
   "name": "python",
   "nbconvert_exporter": "python",
   "pygments_lexer": "ipython3",
   "version": "3.10.0"
  },
  "orig_nbformat": 4
 },
 "nbformat": 4,
 "nbformat_minor": 2
}
