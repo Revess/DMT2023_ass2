{
 "cells": [
  {
   "cell_type": "code",
   "execution_count": 2,
   "metadata": {},
   "outputs": [],
   "source": [
    "import pandas as pd\n",
    "import matplotlib as mlp\n",
    "import numpy as np\n",
    "import seaborn as sns\n",
    "import matplotlib.pyplot as plt"
   ]
  },
  {
   "cell_type": "code",
   "execution_count": 6,
   "metadata": {},
   "outputs": [],
   "source": [
    "trainingdf = pd.read_csv('/Users/florencecornelissen/Documents/VU/DMT/DMT2023_ass2/data/training_set_VU_DM.csv')\n",
    "# startlen = len(trainingdf.index)"
   ]
  },
  {
   "cell_type": "code",
   "execution_count": 23,
   "metadata": {},
   "outputs": [],
   "source": [
    "#Add column with day of the week\n",
    "trainingdf['date_time'] = pd.to_datetime(trainingdf['date_time'])\n",
    "trainingdf['weekday'] = trainingdf['date_time'].dt.dayofweek\n",
    "# trainingdf['weekday_name'] = trainingdf['date_time'].dt.day_name()\n",
    "\n",
    "#Add column with part of day: morning, afternoon, evening, night\n",
    "trainingdf['part_of_day'] = pd.cut(trainingdf['date_time'].dt.hour,[0,6,12,18,24],labels=['night','morning','afternoon','evening'],include_lowest=True)\n",
    "\n",
    "#Add column with season: winter, spring, summer, autumn\n",
    "# Doesn't work since the mins must increase monotonically? Other option I say is \n",
    "# trainingdf['season'] = pd.cut(trainingdf['date_time'].dt.strftime('%m-%d'),[1-1, 3-21, 6-21, 21-9, 12-21, 12-31],labels=['winter','spring','summer','autumn', 'winter'],include_lowest=True)\n",
    "\n",
    "#Add column last minute whenever it is booked within 2 weeks upfront\n",
    "trainingdf['last_minute'] = [1 if x <= 14 else 0 for x in trainingdf['srch_booking_window']]\n",
    "\n",
    "#Fill NaN values from Gross_bookings_usd with 0\n",
    "trainingdf['gross_bookings_usd'] = trainingdf['gross_bookings_usd'].fillna(0)\n",
    "\n",
    "#If the price is outside the lower and upper quantile, replace it with the mean of the price of that hotel\n",
    "trainingdf['price_usd'] = np.where((trainingdf['price_usd'] < trainingdf['price_usd'].quantile(0.001)) | (trainingdf['price_usd'] > trainingdf['price_usd'].quantile(0.999)), trainingdf.groupby('prop_country_id')['price_usd'].transform('mean'), trainingdf['price_usd'])\n",
    "\n",
    "#Add 1 to all values in comp1_rate, comp2_rate etc. if they are not NaN so we get a range of 0 to 2 and calculated the total score of all competitors per prop_id (hotel)\n",
    "columns = ['comp1_rate', 'comp2_rate', 'comp3_rate', 'comp4_rate', 'comp5_rate', 'comp6_rate', 'comp7_rate', 'comp8_rate']\n",
    "for column in columns:\n",
    "    trainingdf[column] = trainingdf[column] + 1\n",
    "    trainingdf['comp_rate'] = trainingdf.groupby('prop_id')[column].transform('mean')\n",
    "\n",
    "#Add 1 to all values in comp1_inv, comp2_inv etc. if they are not NaN so we get a range of 0 to 2 and calculated the total score of all competitors per prop_id (hotel)\n",
    "columns2 = ['comp1_inv', 'comp2_inv', 'comp3_inv', 'comp4_inv', 'comp5_inv', 'comp6_inv', 'comp7_inv', 'comp8_inv']\n",
    "for column in columns2:\n",
    "    trainingdf[column] = trainingdf[column] + 1\n",
    "    trainingdf['comp_inv'] = trainingdf.groupby('prop_id')[column].transform('mean')\n",
    "\n",
    "#Add 1 to all values in comp1_inv, comp2_inv etc. if they are not NaN so we get a range of 0 to 2 and calculated the total score of all competitors per prop_id (hotel)\n",
    "columns2 = ['comp1_rate_percent_diff', 'comp2_rate_percent_diff', 'comp3_rate_percent_diff', 'comp4_rate_percent_diff', 'comp5_rate_percent_diff', 'comp6_rate_percent_diff', 'comp7_rate_percent_diff', 'comp8_rate_percent_diff']\n",
    "for column in columns2:\n",
    "    trainingdf['comp_rate_percent_diff'] = trainingdf.groupby('prop_id')[column].transform('mean')\n",
    "\n",
    "#Get the date of the booking by adding the srch_booking_window to the date_time\n",
    "trainingdf['date_booking'] = trainingdf['date_time'] + pd.to_timedelta(trainingdf['srch_booking_window'], unit='d')\n",
    "\n",
    "def season_booking(row):\n",
    "    month = row['date_booking'].month\n",
    "    day = row['date_booking'].day\n",
    "\n",
    "    if (month == 3 and day >= 21) or (month == 4) or (month == 5) or (month == 6 and day < 21):\n",
    "        return 'spring'\n",
    "    elif (month == 6 and day >= 21) or (month == 7) or (month == 8) or (month == 9 and day < 21):\n",
    "        return 'summer'\n",
    "    elif (month == 9 and day >= 21) or (month == 10) or (month == 11) or (month == 12 and day < 21):\n",
    "        return 'autumn'\n",
    "    else:\n",
    "        return 'winter'\n",
    "\n",
    "#Get the season of the date_booking by the function season_booking\n",
    "trainingdf['season_booking'] = trainingdf.apply(season_booking, axis=1)\n",
    "\n",
    "#Drop the date_bookking again since we don't need it anymore\n",
    "trainingdf.drop(['date_booking'], axis=1, inplace=True)\n"
   ]
  },
  {
   "cell_type": "code",
   "execution_count": 11,
   "metadata": {},
   "outputs": [
    {
     "ename": "ValueError",
     "evalue": "The truth value of a Series is ambiguous. Use a.empty, a.bool(), a.item(), a.any() or a.all().",
     "output_type": "error",
     "traceback": [
      "\u001b[0;31m---------------------------------------------------------------------------\u001b[0m",
      "\u001b[0;31mValueError\u001b[0m                                Traceback (most recent call last)",
      "Cell \u001b[0;32mIn[11], line 1\u001b[0m\n\u001b[0;32m----> 1\u001b[0m trainingdf[\u001b[39m'\u001b[39m\u001b[39mprice_usd\u001b[39m\u001b[39m'\u001b[39m]\u001b[39m>\u001b[39mtrainingdf[\u001b[39m'\u001b[39m\u001b[39mprice_usd\u001b[39m\u001b[39m'\u001b[39m]\u001b[39m.\u001b[39mquantile(\u001b[39m0.999\u001b[39m) \u001b[39m==\u001b[39m \u001b[39mTrue\u001b[39;00m\n",
      "File \u001b[0;32m~/opt/anaconda3/envs/DMT2023/lib/python3.10/site-packages/pandas/core/generic.py:1527\u001b[0m, in \u001b[0;36mNDFrame.__nonzero__\u001b[0;34m(self)\u001b[0m\n\u001b[1;32m   1525\u001b[0m \u001b[39m@final\u001b[39m\n\u001b[1;32m   1526\u001b[0m \u001b[39mdef\u001b[39;00m \u001b[39m__nonzero__\u001b[39m(\u001b[39mself\u001b[39m) \u001b[39m-\u001b[39m\u001b[39m>\u001b[39m NoReturn:\n\u001b[0;32m-> 1527\u001b[0m     \u001b[39mraise\u001b[39;00m \u001b[39mValueError\u001b[39;00m(\n\u001b[1;32m   1528\u001b[0m         \u001b[39mf\u001b[39m\u001b[39m\"\u001b[39m\u001b[39mThe truth value of a \u001b[39m\u001b[39m{\u001b[39;00m\u001b[39mtype\u001b[39m(\u001b[39mself\u001b[39m)\u001b[39m.\u001b[39m\u001b[39m__name__\u001b[39m\u001b[39m}\u001b[39;00m\u001b[39m is ambiguous. \u001b[39m\u001b[39m\"\u001b[39m\n\u001b[1;32m   1529\u001b[0m         \u001b[39m\"\u001b[39m\u001b[39mUse a.empty, a.bool(), a.item(), a.any() or a.all().\u001b[39m\u001b[39m\"\u001b[39m\n\u001b[1;32m   1530\u001b[0m     )\n",
      "\u001b[0;31mValueError\u001b[0m: The truth value of a Series is ambiguous. Use a.empty, a.bool(), a.item(), a.any() or a.all()."
     ]
    }
   ],
   "source": []
  },
  {
   "cell_type": "code",
   "execution_count": 155,
   "metadata": {},
   "outputs": [],
   "source": [
    "#Needs to be run after rows are dropped\n",
    "#Based on the occurences of the srch_id in the temporal time, add 1 to the column if click_bool is 1 and 0 if click_bool is 0 over the whole dataset\n",
    "#trainingdf['click_history'] = trainingdf.groupby('srch_id')['click_bool'].transform(lambda x: x.cumsum().shift())"
   ]
  },
  {
   "cell_type": "code",
   "execution_count": 7,
   "metadata": {},
   "outputs": [
    {
     "data": {
      "text/plain": [
       "prop_id\n",
       "1          94.874426\n",
       "2          96.272727\n",
       "3         109.026098\n",
       "4         468.611818\n",
       "5         636.521333\n",
       "             ...    \n",
       "140817     76.096667\n",
       "140818     79.030000\n",
       "140819     68.120000\n",
       "140820    170.070556\n",
       "140821     81.062857\n",
       "Name: price_usd, Length: 129113, dtype: float64"
      ]
     },
     "execution_count": 7,
     "metadata": {},
     "output_type": "execute_result"
    }
   ],
   "source": []
  },
  {
   "cell_type": "code",
   "execution_count": 8,
   "metadata": {},
   "outputs": [],
   "source": [
    "#If the price is outside the lower and upper quantile, replace it with the mean of the price of that hotel\n",
    "trainingdf['price_usd'] = np.where((trainingdf['price_usd'] < trainingdf['price_usd'].quantile(0.001)) | (trainingdf['price_usd'] > trainingdf['price_usd'].quantile(0.999)), trainingdf.groupby('prop_id')['price_usd'].transform('mean'), trainingdf['price_usd'])"
   ]
  },
  {
   "cell_type": "code",
   "execution_count": null,
   "metadata": {},
   "outputs": [],
   "source": []
  }
 ],
 "metadata": {
  "kernelspec": {
   "display_name": "DMT2023",
   "language": "python",
   "name": "python3"
  },
  "language_info": {
   "codemirror_mode": {
    "name": "ipython",
    "version": 3
   },
   "file_extension": ".py",
   "mimetype": "text/x-python",
   "name": "python",
   "nbconvert_exporter": "python",
   "pygments_lexer": "ipython3",
   "version": "3.10.0"
  },
  "orig_nbformat": 4
 },
 "nbformat": 4,
 "nbformat_minor": 2
}
